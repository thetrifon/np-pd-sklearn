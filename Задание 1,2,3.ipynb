{
 "cells": [
  {
   "cell_type": "code",
   "execution_count": 2,
   "id": "1bdea237",
   "metadata": {},
   "outputs": [
    {
     "data": {
      "text/plain": [
       "'**Задание 1**\\nИмпортируйте библиотеки `pandas`, `numpy` и `matplotlib`.\\nЗагрузите \"Boston House Prices dataset\" из встроенных наборов \\nданных библиотеки `sklearn`.\\nСоздайте датафреймы `X` и `y` из этих данных.\\nРазбейте эти датафреймы на тренировочные (`X_train, y_train`) и тестовые (`X_test, y_test`)\\nс помощью функции `train_test_split` так, чтобы размер тестовой выборки\\nсоставлял 20% от всех данных, при этом аргумент `random_state` должен быть равен 42.\\nМасштабируйте данные с помощью `StandardScaler`.\\nПостройте модель TSNE на тренировочный данных с параметрами:\\n`n_components=2`, `learning_rate=250`, `random_state=42`.\\nПостройте диаграмму рассеяния на этих данных.'"
      ]
     },
     "execution_count": 2,
     "metadata": {},
     "output_type": "execute_result"
    }
   ],
   "source": [
    "'''**Задание 1**\n",
    "Импортируйте библиотеки `pandas`, `numpy` и `matplotlib`.\n",
    "Загрузите \"Boston House Prices dataset\" из встроенных наборов \n",
    "данных библиотеки `sklearn`.\n",
    "Создайте датафреймы `X` и `y` из этих данных.\n",
    "Разбейте эти датафреймы на тренировочные (`X_train, y_train`) и тестовые (`X_test, y_test`)\n",
    "с помощью функции `train_test_split` так, чтобы размер тестовой выборки\n",
    "составлял 20% от всех данных, при этом аргумент `random_state` должен быть равен 42.\n",
    "Масштабируйте данные с помощью `StandardScaler`.\n",
    "Постройте модель TSNE на тренировочный данных с параметрами:\n",
    "`n_components=2`, `learning_rate=250`, `random_state=42`.\n",
    "Постройте диаграмму рассеяния на этих данных.'''"
   ]
  },
  {
   "cell_type": "code",
   "execution_count": 1,
   "id": "6d5bfc19",
   "metadata": {},
   "outputs": [],
   "source": [
    "import pandas as pd\n",
    "import numpy as np\n",
    "import matplotlib.pyplot as plt"
   ]
  },
  {
   "cell_type": "code",
   "execution_count": 2,
   "id": "6f8fc007",
   "metadata": {},
   "outputs": [],
   "source": [
    "import warnings\n",
    "warnings.filterwarnings(\"ignore\", category=DeprecationWarning)"
   ]
  },
  {
   "cell_type": "code",
   "execution_count": 3,
   "id": "60b7408d",
   "metadata": {},
   "outputs": [
    {
     "data": {
      "text/plain": [
       "dict_keys(['data', 'target', 'feature_names', 'DESCR', 'filename'])"
      ]
     },
     "execution_count": 3,
     "metadata": {},
     "output_type": "execute_result"
    }
   ],
   "source": [
    "from sklearn.datasets import load_boston\n",
    "boston = load_boston()\n",
    "boston.keys()"
   ]
  },
  {
   "cell_type": "code",
   "execution_count": 4,
   "id": "551cf12f",
   "metadata": {},
   "outputs": [],
   "source": [
    "X = pd.DataFrame(boston.data, columns=boston.feature_names)\n",
    "y = boston.target"
   ]
  },
  {
   "cell_type": "code",
   "execution_count": 5,
   "id": "f0b33346",
   "metadata": {},
   "outputs": [],
   "source": [
    "from sklearn.model_selection import train_test_split\n",
    "X_train, X_test, y_train, y_test = train_test_split(X, y, test_size = 0.2, random_state = 42)"
   ]
  },
  {
   "cell_type": "code",
   "execution_count": 6,
   "id": "7a258557",
   "metadata": {},
   "outputs": [],
   "source": [
    "from sklearn.preprocessing import StandardScaler\n",
    "scaler = StandardScaler()\n",
    "X_train_scaled = pd.DataFrame(scaler.fit_transform(X_train), columns=X_train.columns)\n",
    "X_test_scaled = pd.DataFrame(scaler.transform(X_test), columns=X_test.columns)"
   ]
  },
  {
   "cell_type": "code",
   "execution_count": 7,
   "id": "1dd685f1",
   "metadata": {},
   "outputs": [],
   "source": [
    "from sklearn.manifold import TSNE\n",
    "tsne = TSNE(n_components=2, learning_rate=250, random_state=42)\n",
    "X_train_tsne = tsne.fit_transform(X_train_scaled)"
   ]
  },
  {
   "cell_type": "code",
   "execution_count": 8,
   "id": "6590c434",
   "metadata": {},
   "outputs": [
    {
     "data": {
      "image/png": "[encoded data removed]",
      "text/plain": [
       "<Figure size 432x288 with 1 Axes>"
      ]
     },
     "metadata": {
      "needs_background": "light"
     },
     "output_type": "display_data"
    }
   ],
   "source": [
    "plt.scatter(X_train_tsne [:, 0], X_train_tsne[:, 1])\n",
    "plt.show()"
   ]
  },
  {
   "cell_type": "code",
   "execution_count": 9,
   "id": "f4a5044c",
   "metadata": {},
   "outputs": [],
   "source": [
    "'''**Задание 2**\n",
    "С помощью `KMeans` разбейте данные из тренировочного набора на 3 кластера,\n",
    "используйте все признаки из датафрейма `X_train`.\n",
    "Параметр `max_iter` должен быть равен 100, `random_state` сделайте равным 42.\n",
    "Постройте еще раз диаграмму рассеяния на данных, полученных с помощью TSNE,\n",
    "и раскрасьте точки из разных кластеров разными цветами.\n",
    "Вычислите средние значения `price` и `CRIM` в разных кластерах.\n",
    "'''\n",
    "\n",
    "from sklearn.cluster import KMeans \n",
    "klusters = KMeans(n_clusters=3, random_state=42, max_iter=100)\n",
    "klusters_train = klusters.fit_predict(X_train_scaled)"
   ]
  },
  {
   "cell_type": "code",
   "execution_count": 10,
   "id": "edd186a0",
   "metadata": {},
   "outputs": [
    {
     "name": "stdout",
     "output_type": "stream",
     "text": [
      "Первый кластер:  27.78837209302326\n",
      "Второй кластер: 16.165354330708663\n",
      "Третий кластер: 24.958115183246072\n"
     ]
    }
   ],
   "source": [
    "print('Первый кластер: ', y_train[klusters_train == 0].mean())\n",
    "print('Второй кластер:', y_train[klusters_train == 1].mean())\n",
    "print('Третий кластер:', y_train[klusters_train == 2].mean())"
   ]
  },
  {
   "cell_type": "code",
   "execution_count": 11,
   "id": "9696c8fc",
   "metadata": {},
   "outputs": [
    {
     "name": "stdout",
     "output_type": "stream",
     "text": [
      "Первый кластер:  0.07356558139534886\n",
      "Второй кластер: 10.797028425196853\n",
      "Третий кластер: 0.42166020942408367\n"
     ]
    }
   ],
   "source": [
    "print('Первый кластер: ', X_train['CRIM'][klusters_train == 0].mean())\n",
    "print('Второй кластер:', X_train['CRIM'][klusters_train == 1].mean())\n",
    "print('Третий кластер:', X_train['CRIM'][klusters_train == 2].mean())"
   ]
  },
  {
   "cell_type": "code",
   "execution_count": 12,
   "id": "e6fec73c",
   "metadata": {},
   "outputs": [
    {
     "data": {
      "text/plain": [
       "'**Задание 3**\\nПримените модель `KMeans`, построенную в предыдущем задании,\\nк данным из тестового набора.\\nВычислите средние значения `price` и `CRIM` в разных кластерах на тестовых данных.'"
      ]
     },
     "execution_count": 12,
     "metadata": {},
     "output_type": "execute_result"
    }
   ],
   "source": [
    "'''**Задание 3**\n",
    "Примените модель `KMeans`, построенную в предыдущем задании,\n",
    "к данным из тестового набора.\n",
    "Вычислите средние значения `price` и `CRIM` в разных кластерах на тестовых данных.'''\n"
   ]
  },
  {
   "cell_type": "code",
   "execution_count": 14,
   "id": "1e6040dc",
   "metadata": {},
   "outputs": [
    {
     "name": "stdout",
     "output_type": "stream",
     "text": [
      "тест_первый кластер - средняя цена:  33.871428571428574\n",
      "тест_первый кластер - средний уровень преступности:  0.08618571428571427\n"
     ]
    }
   ],
   "source": [
    "labels_test = klusters.fit_predict(X_test_scaled)\n",
    "\n",
    "print('тест_первый кластер - средняя цена: ', y_test[labels_test == 0].mean())\n",
    "print('тест_первый кластер - средний уровень преступности: ', X_test.loc[labels_test == 0, 'CRIM'].mean())"
   ]
  },
  {
   "cell_type": "code",
   "execution_count": 15,
   "id": "6b96dac7",
   "metadata": {},
   "outputs": [
    {
     "name": "stdout",
     "output_type": "stream",
     "text": [
      "тест_второй кластер - средняя цена:  21.552830188679245\n",
      "тест_второй кластер - средний уровень преступности:  0.25200716981132076\n"
     ]
    }
   ],
   "source": [
    "print('тест_второй кластер - средняя цена: ', y_test[labels_test == 1].mean())\n",
    "print('тест_второй кластер - средний уровень преступности: ', X_test.loc[labels_test == 1, 'CRIM'].mean())"
   ]
  },
  {
   "cell_type": "code",
   "execution_count": 16,
   "id": "ef7ff8fa",
   "metadata": {},
   "outputs": [
    {
     "name": "stdout",
     "output_type": "stream",
     "text": [
      "тест_третий кластер - средняя цена:  16.43714285714286\n",
      "тест_третий кластер - средний уровень преступности:  10.165531142857143\n"
     ]
    }
   ],
   "source": [
    "print('тест_третий кластер - средняя цена: ', y_test[labels_test == 2].mean())\n",
    "print('тест_третий кластер - средний уровень преступности: ', X_test.loc[labels_test == 2, 'CRIM'].mean())"
   ]
  },
  {
   "cell_type": "code",
   "execution_count": null,
   "id": "b54eec02",
   "metadata": {},
   "outputs": [],
   "source": []
  }
 ],
 "metadata": {
  "kernelspec": {
   "display_name": "Python 3 (ipykernel)",
   "language": "python",
   "name": "python3"
  },
  "language_info": {
   "codemirror_mode": {
    "name": "ipython",
    "version": 3
   },
   "file_extension": ".py",
   "mimetype": "text/x-python",
   "name": "python",
   "nbconvert_exporter": "python",
   "pygments_lexer": "ipython3",
   "version": "3.9.7"
  }
 },
 "nbformat": 4,
 "nbformat_minor": 5
}
